{
 "cells": [
  {
   "cell_type": "code",
   "execution_count": 1,
   "id": "911030e2-df24-4487-b8c1-2bd7fc139af2",
   "metadata": {},
   "outputs": [
    {
     "name": "stdout",
     "output_type": "stream",
     "text": [
      "The square of 4 is 16\n"
     ]
    }
   ],
   "source": [
    "# Simple Python program to calculate the square of a number\n",
    "def square_number(number):\n",
    "    return number ** 2\n",
    " \n",
    "num = 4\n",
    "result = square_number(num)\n",
    "print(f\"The square of {num} is {result}\")\n"
   ]
  },
  {
   "cell_type": "code",
   "execution_count": null,
   "id": "e4469411-2587-418c-af3f-da3ccd68420c",
   "metadata": {},
   "outputs": [],
   "source": []
  }
 ],
 "metadata": {
  "kernelspec": {
   "display_name": "Python 3 (ipykernel)",
   "language": "python",
   "name": "python3"
  },
  "language_info": {
   "codemirror_mode": {
    "name": "ipython",
    "version": 3
   },
   "file_extension": ".py",
   "mimetype": "text/x-python",
   "name": "python",
   "nbconvert_exporter": "python",
   "pygments_lexer": "ipython3",
   "version": "3.12.5"
  }
 },
 "nbformat": 4,
 "nbformat_minor": 5
}
